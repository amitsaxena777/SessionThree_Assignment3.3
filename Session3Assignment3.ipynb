{
 "cells": [
  {
   "cell_type": "code",
   "execution_count": 4,
   "metadata": {},
   "outputs": [
    {
     "data": {
      "text/plain": [
       "'Developer'"
      ]
     },
     "execution_count": 4,
     "metadata": {},
     "output_type": "execute_result"
    }
   ],
   "source": [
    "# Implement a function longestWord() that takes a list of words and returns the longest\n",
    "#one.\n",
    "def longestWord(mylist):\n",
    "    length=0\n",
    "    longWrd=''\n",
    "    for word in mylist:\n",
    "        if length< len(word):\n",
    "            length=len(word)\n",
    "            longWrd=word\n",
    "    return longWrd\n",
    "\n",
    "longestWord(['Acadgild','Amit','Developer','India'])\n",
    "            "
   ]
  }
 ],
 "metadata": {
  "kernelspec": {
   "display_name": "Python 3",
   "language": "python",
   "name": "python3"
  },
  "language_info": {
   "codemirror_mode": {
    "name": "ipython",
    "version": 3
   },
   "file_extension": ".py",
   "mimetype": "text/x-python",
   "name": "python",
   "nbconvert_exporter": "python",
   "pygments_lexer": "ipython3",
   "version": "3.6.4"
  }
 },
 "nbformat": 4,
 "nbformat_minor": 2
}
